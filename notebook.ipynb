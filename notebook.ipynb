{
 "cells": [
  {
   "cell_type": "code",
   "id": "initial_id",
   "metadata": {
    "ExecuteTime": {
     "end_time": "2024-04-28T16:00:26.025228Z",
     "start_time": "2024-04-28T16:00:26.021490Z"
    }
   },
   "source": [
    "import requests"
   ],
   "outputs": [],
   "execution_count": 2
  },
  {
   "cell_type": "code",
   "id": "caaaef24c518eb82",
   "metadata": {
    "collapsed": false,
    "jupyter": {
     "outputs_hidden": false
    },
    "ExecuteTime": {
     "end_time": "2024-04-08T14:42:03.459960Z",
     "start_time": "2024-04-08T14:41:57.049819Z"
    }
   },
   "source": [
    "api_endpoint = \"http://localhost:8080\"\n",
    "\n",
    "r = requests.get(f\"{api_endpoint}/version\")\n",
    "r.json()"
   ],
   "outputs": [
    {
     "data": {
      "text/plain": [
       "{'version': '0.1.0'}"
      ]
     },
     "execution_count": 2,
     "metadata": {},
     "output_type": "execute_result"
    }
   ],
   "execution_count": 2
  },
  {
   "cell_type": "code",
   "id": "7454ea9f-32cd-4550-909c-991500a72c75",
   "metadata": {
    "ExecuteTime": {
     "end_time": "2024-04-28T16:14:04.824331Z",
     "start_time": "2024-04-28T16:14:03.059120Z"
    }
   },
   "source": [
    "import requests\n",
    "from readability import Document\n",
    "from bs4 import BeautifulSoup\n",
    "\n",
    "response = requests.get('https://scottberkun.com/2021/why-bad-ceos-fear-remote-work/')\n",
    "doc = Document(response.content)\n",
    "\n",
    "content_raw = doc.summary()\n",
    "soup = BeautifulSoup(content_raw, 'html.parser')\n",
    "content_cleaned = soup.get_text()\n"
   ],
   "outputs": [],
   "execution_count": 26
  },
  {
   "metadata": {
    "ExecuteTime": {
     "end_time": "2024-04-28T16:14:06.722501Z",
     "start_time": "2024-04-28T16:14:06.719899Z"
    }
   },
   "cell_type": "code",
   "source": "content_cleaned\n",
   "id": "61c988e08bbc47fd",
   "outputs": [
    {
     "data": {
      "text/plain": [
       "'\\n\\nRemote work expert David Tate wrote that when fearful CEOs talk about workplace culture, they’re really talking about workplace control. Their insecurities demand that the way work is done by employees is always visible, highly regulated and uses the methods executives prefer, rather than what’s best for everyone’s productivity. Remote work is seen as a threat to many CEOs simply because of their fear of change and resistance to progress. That fear leads to an irrational rejection of remote work, instead of a thoughtful examination of where it has succeeded and what can be learned. \\nIn her May 6th Washington Post opinion article, I worry about the erosion of office culture with more remote work, CEO Cathy Merill makes two fundamental mistakes common among fearful executives. First, it shows an ignorance of alternatives, as many organizations have worked remotely for years before the pandemic and have solved problems she considers unsolvable. She may not prefer these approaches, but her lack of awareness of them is incompetence. Second, she is infantilizing her employees by presuming they are not capable of and motivated to be productive and collaborate even when the CEO can’t see them down the hallway.\\xa0\\nWe are over a year into a pandemic and an era of great social unrest and uncertainty, yet Merill has chosen remote work, and not other likely psychological or cultural factors, as the singular reason why workplace performance has declined. And if this wasn’t enough of an oversight, her evidence against remote work consists mostly of examples from executive friends of their self-described management incompetence.\\xa0\\nShe offered the story of an anonymous CEO with a new but struggling employee. Yet none of the leadership team did anything about it: \\n\\xa0A friend at a Fortune 500 company tells of a colleague who was hired just as the pandemic hit. He struggled. He wasn’t getting the job done. It was very hard for the leadership team to tell what the problem was. Was it because he was new? Was he not up to the work? What was the specific issue? Worse, no one wanted to give him feedback over Zoom when they hadn’t even met him. Professional development is hard to do remotely.\\nThis is simply a management failure. Does this company not have telephones? Or email? Have they never worked with a vendor or client that wasn’t in the same building? They are responsible for helping this employee regardless of what technologies are available or not. This is inept management hiding behind technological fear. \\xa0\\nMerill estimates that 20% of work is helping a colleague or mentoring more junior people, extra work that she feels is impossible to do remotely. This is despite dozens of popular collaboration tools and mentoring programs that work entirely online. It also denies the dozens of remote corporations like Automattic and Citrix that have vibrant work cultures where these “extra” activities are successfully done remotely. \\nMerill and her peers might not like these alternatives, but she never explains why. She even goes so far as to suggest that remote workers should be paid less and lose their benefits, since in her estimation they will never be able to contribute in these extra ways. She effectively threatened her own staff through the article (she apologized later after her staff revolted). \\nIf the employee is rarely around to participate in those extras, management has a strong incentive to change their status to “contractor.” Instead of receiving a set salary, contractors are paid only for the work they do, either hourly or by appropriate output metrics. That would also mean not having to pay for health care, a 401(k) match and our share of FICA and Medicare taxes\\nOne quality of a great CEO is the ability to look into the future and show their organization the way forward. Instead of blaming employees, they take responsibility for solving problems. For every serious issue that arises they ask themselves what can I do or change in my own behavior that can lead my staff to a better place? They diversify their network to ask “who has solved the problem my organization is facing somewhere else and what can we learn?” Or perhaps most critical of all, they invite their own employees to participate in both defining the problem and exploring ways to solve it, instead of drawing lines in the sand and assuming the only way forward is the one that makes them the most comfortable. \\xa0\\nTechnology is often seen as a silver bullet, oversold as the magic solution that can solve hard problems. This overestimates what a technology can do, as often it’s the management culture that is the real cause. But in the case of Merill, her CEO peers and remote work, technology is being used as a scapegoat. It’s the safe target to blame as it requires no introspection or accountability. Leaders that do this become fear-driven, allowing their competitors an advantage simply by exercising curiosity and seeking new knowledge. Smart CEOs chose to invest in their work culture and grow it for the future instead of hoping for the past to return.\\xa0\\n\\n \\n'"
      ]
     },
     "execution_count": 27,
     "metadata": {},
     "output_type": "execute_result"
    }
   ],
   "execution_count": 27
  },
  {
   "cell_type": "code",
   "id": "d197d9ae02d7d906",
   "metadata": {
    "collapsed": false,
    "is_executing": true,
    "jupyter": {
     "outputs_hidden": false
    },
    "ExecuteTime": {
     "end_time": "2024-04-28T16:14:37.698520Z",
     "start_time": "2024-04-28T16:14:16.118686Z"
    }
   },
   "source": [
    "import json\n",
    "\n",
    "# summary = \"I want to go for a swim. But my sister hates the pool\"\n",
    "\n",
    "r = requests.post(\"http://localhost:11434/api/generate\", data=json.dumps({\n",
    "    \"model\": \"gemma:7b\",\n",
    "    \"prompt\":f\" summarize following text: {content_cleaned}\",\n",
    "    \"stream\": False\n",
    "}))\n",
    "# r.json()"
   ],
   "outputs": [],
   "execution_count": 28
  },
  {
   "cell_type": "code",
   "id": "94b17425609e5baa",
   "metadata": {
    "collapsed": false,
    "jupyter": {
     "outputs_hidden": false
    },
    "ExecuteTime": {
     "end_time": "2024-04-28T16:14:39.639042Z",
     "start_time": "2024-04-28T16:14:39.629693Z"
    }
   },
   "source": "print(r.json()['response'])",
   "outputs": [
    {
     "name": "stdout",
     "output_type": "stream",
     "text": [
      "## Summary:\n",
      "\n",
      "**The author criticizes CEOs who fear remote work and claim it harms workplace culture.** They argue that these CEOs:\n",
      "\n",
      "* **Lack awareness** of successful remote work models existing before the pandemic.\n",
      "* **Underestimate employees' capabilities** and believe they are incapable of collaboration without physical presence.\n",
      "* **Ignore their own management shortcomings** by blaming remote work for performance issues instead of addressing their own failures.\n",
      "\n",
      "**The author suggests that CEOs should:**\n",
      "\n",
      "* Embrace alternative work models and collaborate on solutions with their employees.\n",
      "* Take responsibility for problems and avoid scapegoating technology.\n",
      "* Invest in building a strong work culture for the future, not clinging to the past.\n",
      "\n",
      "**The author concludes by emphasizing the importance of curiosity and innovation for successful leadership in the post-pandemic era.**\n"
     ]
    }
   ],
   "execution_count": 29
  },
  {
   "metadata": {},
   "cell_type": "code",
   "outputs": [],
   "execution_count": null,
   "source": "",
   "id": "927de117a433c40"
  }
 ],
 "metadata": {
  "kernelspec": {
   "display_name": "Python 3 (ipykernel)",
   "language": "python",
   "name": "python3"
  },
  "language_info": {
   "codemirror_mode": {
    "name": "ipython",
    "version": 3
   },
   "file_extension": ".py",
   "mimetype": "text/x-python",
   "name": "python",
   "nbconvert_exporter": "python",
   "pygments_lexer": "ipython3",
   "version": "3.11.8"
  }
 },
 "nbformat": 4,
 "nbformat_minor": 5
}
